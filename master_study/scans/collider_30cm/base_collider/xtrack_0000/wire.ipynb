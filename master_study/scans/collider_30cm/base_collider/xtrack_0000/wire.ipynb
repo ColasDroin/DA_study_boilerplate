{
 "cells": [
  {
   "cell_type": "code",
   "execution_count": null,
   "metadata": {},
   "outputs": [],
   "source": [
    "import json\n",
    "from matplotlib import pyplot as plt\n",
    "import xtrack as xt\n",
    "import numpy as np\n",
    "import plotly.graph_objects as go\n"
   ]
  },
  {
   "cell_type": "code",
   "execution_count": null,
   "metadata": {},
   "outputs": [],
   "source": [
    "BEAM  = \"b1\""
   ]
  },
  {
   "cell_type": "code",
   "execution_count": null,
   "metadata": {},
   "outputs": [],
   "source": [
    "collider = xt.Multiline.from_json('../collider/collider.json')\n",
    "line = collider[f'lhc{BEAM}']"
   ]
  },
  {
   "cell_type": "markdown",
   "metadata": {},
   "source": [
    "Create the knobs for wire current and wire distance to the beam"
   ]
  },
  {
   "cell_type": "code",
   "execution_count": null,
   "metadata": {},
   "outputs": [],
   "source": [
    "# IP 1\n",
    "line.vars[f'i_wire_ip1.{BEAM}'] = 0.0 \n",
    "line.vars[f'd_wire_ip1.{BEAM}'] = 0.01 \n",
    "\n",
    "# IP 5\n",
    "line.vars[f'i_wire_ip5.{BEAM}'] = 0.0\n",
    "line.vars[f'd_wire_ip5.{BEAM}'] = 0.01"
   ]
  },
  {
   "cell_type": "markdown",
   "metadata": {},
   "source": [
    "Insert (unconfigured) wires on the line"
   ]
  },
  {
   "cell_type": "code",
   "execution_count": null,
   "metadata": {},
   "outputs": [],
   "source": [
    "\n",
    "side = 'r' if BEAM == 'b2' else 'l'\n",
    "sign = 1 if BEAM == 'b2' else -1\n",
    "l_name_wire = [f'bbwc.t.4{side}1', f'bbwc.b.4{side}1', f'bbwc.e.4{side}5', f'bbwc.i.4{side}5']\n",
    "l_name_tct = [f'tctpv.4{side}1', f'tctpv.4{side}1', f'tctph.4{side}5', f'tctph.4{side}5']\n",
    "l_h_dist = sign * np.array([0., 0., 1., -1.])\n",
    "l_v_dist = sign * np.array([1., -1., 0., 0.])\n",
    "\n",
    "# Tw to get the position of the tct, but need to discard tracker afterwards to unfreeze the line\n",
    "tw = line.twiss()\n",
    "l_s_tct = [((tw.rows[f'{name_tct}.{BEAM}_entry'].s + tw.rows[f'{name_tct}.{BEAM}_exit'].s)/2)[0] for name_tct in l_name_tct]\n",
    "line.discard_tracker()\n",
    "for name_wire, name_tct, h_dist, v_dist, s_tct in zip(l_name_wire, l_name_tct, l_h_dist, l_v_dist, l_s_tct):\n",
    "    line.insert_element(name=f'{name_wire}.{BEAM}',\n",
    "                        element=xt.Wire(\n",
    "                            L_phy=1, \n",
    "                            L_int=2,\n",
    "                            current= 0.0,\n",
    "                            xma=h_dist, \n",
    "                            yma= v_dist # very far from the beam\n",
    "                            ),\n",
    "                        at_s = s_tct\n",
    "                        )\n"
   ]
  },
  {
   "cell_type": "markdown",
   "metadata": {},
   "source": [
    "Get closed orbit position at the location of the wire"
   ]
  },
  {
   "cell_type": "code",
   "execution_count": null,
   "metadata": {},
   "outputs": [],
   "source": [
    "tw = line.twiss()\n",
    "# Careful, tct are repeated so only take one out of two\n",
    "x_tct_ip1, x_tct_ip5 = [((tw.rows[f'{name_tct}.{BEAM}_entry'].x + tw.rows[f'{name_tct}.{BEAM}_exit'].x)/2)[0] for name_tct in l_name_tct[::2]]\n",
    "y_tct_ip1, y_tct_ip5 = [((tw.rows[f'{name_tct}.{BEAM}_entry'].y + tw.rows[f'{name_tct}.{BEAM}_exit'].y)/2)[0] for name_tct in l_name_tct[::2]]\n"
   ]
  },
  {
   "cell_type": "markdown",
   "metadata": {},
   "source": [
    "Create corresponding knob for closed orbit"
   ]
  },
  {
   "cell_type": "code",
   "execution_count": null,
   "metadata": {},
   "outputs": [],
   "source": [
    "for co_wire, co in zip([f'co_y_wire_ip1.{BEAM}', f'co_x_wire_ip1.{BEAM}', f'co_y_wire_ip5.{BEAM}', f'co_x_wire_ip5.{BEAM}'], [y_tct_ip1, x_tct_ip1, y_tct_ip5, x_tct_ip5]):\n",
    "    line.vars[co_wire] = co\n"
   ]
  },
  {
   "cell_type": "code",
   "execution_count": null,
   "metadata": {},
   "outputs": [],
   "source": [
    "l_name_wire"
   ]
  },
  {
   "cell_type": "markdown",
   "metadata": {},
   "source": [
    "Create knob for current scaling, and wire distance scaling"
   ]
  },
  {
   "cell_type": "code",
   "execution_count": null,
   "metadata": {},
   "outputs": [],
   "source": [
    "for name_wire in l_name_wire:\n",
    "    \n",
    "    # Check IP\n",
    "    if 'r1' in name_wire or 'l1' in name_wire:\n",
    "        ip = 1\n",
    "    elif 'r5' in name_wire or 'l5' in name_wire:\n",
    "        ip = 5\n",
    "    else:\n",
    "        raise ValueError('Invalid wire name')\n",
    "    \n",
    "    # Check plane\n",
    "    if '.t.' in name_wire or '.b.' in name_wire:\n",
    "        plane = 'y'\n",
    "        if '.t.' in name_wire:\n",
    "            sign = 1\n",
    "        else:\n",
    "            sign = -1\n",
    "    elif '.e.' in name_wire or '.i.' in name_wire:\n",
    "        plane = 'x'\n",
    "        if '.e.' in name_wire:\n",
    "            sign = 1\n",
    "        else:\n",
    "            sign = -1\n",
    "    else:\n",
    "        raise ValueError('Invalid wire name')\n",
    "    \n",
    "    # Assign knob\n",
    "    line.element_refs[f'{name_wire}.{BEAM}'].current = line.vars[f'i_wire_ip{ip}.{BEAM}']\n",
    "    if plane == 'y':\n",
    "        line.element_refs[f'{name_wire}.{BEAM}'].yma = line.vars[f'd_wire_ip{ip}.{BEAM}'] + line.vars[f'co_y_wire_ip{ip}.{BEAM}']\n",
    "    else:\n",
    "        line.element_refs[f'{name_wire}.{BEAM}'].xma = sign*line.vars[f'd_wire_ip{ip}.{BEAM}'] + line.vars[f'co_x_wire_ip{ip}.{BEAM}']\n"
   ]
  },
  {
   "cell_type": "markdown",
   "metadata": {},
   "source": [
    "Close separation and crossing in IP2 and IP8 and ensure that orbit is flat"
   ]
  },
  {
   "cell_type": "code",
   "execution_count": null,
   "metadata": {},
   "outputs": [],
   "source": [
    "for ip in [2,8]:\n",
    "        collider.vars[f'on_x{ip}h'] = 0.0\n",
    "        collider.vars[f'on_x{ip}v'] = 0.0\n",
    "        collider.vars[f'on_sep{ip}h'] = 0.0\n",
    "        collider.vars[f'on_sep{ip}v'] = 0.0\n",
    "\n",
    "for ip in [1,2,5,8]:\n",
    "        print(8*'*', f'IP{ip}', 8*'*')\n",
    "        if ip in [2,8]:\n",
    "                print(f'on_sep{ip}h:\\t ', collider.vars[f'on_sep{ip}h']._get_value())\n",
    "                print(f'on_sep{ip}v:\\t ', collider.vars[f'on_sep{ip}v']._get_value())\n",
    "        else:\n",
    "                print(f'on_x{ip}:\\t\\t ', collider.vars[f'on_x{ip}']._get_value())\n",
    "                print(f'on_sep{ip}:\\t ', collider.vars[f'on_sep{ip}']._get_value())\n",
    "        print(f'on_oh{ip}:\\t\\t ', collider.vars[f'on_oh{ip}']._get_value())\n",
    "        print(f'on_ov{ip}:\\t\\t ', collider.vars[f'on_ov{ip}']._get_value())\n",
    "        print(f'on_a{ip}:\\t\\t ', collider.vars[f'on_a{ip}']._get_value())\n",
    "\n",
    "print(8*'*', 'others settings', 8*'*')\n",
    "print('on_alice_normalized:\\t', collider.vars['on_alice_normalized']._get_value())\n",
    "print('on_lhcb_normalized:\\t', collider.vars['on_lhcb_normalized']._get_value())\n",
    "print('on_disp:\\t\\t', collider.vars['on_disp']._get_value())"
   ]
  },
  {
   "cell_type": "markdown",
   "metadata": {},
   "source": [
    "Load all knobs"
   ]
  },
  {
   "cell_type": "code",
   "execution_count": null,
   "metadata": {},
   "outputs": [],
   "source": [
    "#Lod knob for both IPs\n",
    "with open(f'/afs/cern.ch/work/c/cdroin/private/example_DA_study_runIII_wire/master_study/master_jobs/knobs_wire/knob_dict_350A_8sigma@30cm_ip1_beta30_{BEAM}.json') as f:\n",
    "    data_ip1 = json.load(f)\n",
    "    \n",
    "with open(f'/afs/cern.ch/work/c/cdroin/private/example_DA_study_runIII_wire/master_study/master_jobs/knobs_wire/knob_dict_350A_8sigma@30cm_ip5_beta30_{BEAM}.json') as f:\n",
    "    data_ip5 = json.load(f)\n"
   ]
  },
  {
   "cell_type": "markdown",
   "metadata": {},
   "source": [
    "Update wire distances"
   ]
  },
  {
   "cell_type": "code",
   "execution_count": null,
   "metadata": {},
   "outputs": [],
   "source": [
    "side = 'r' if BEAM == 'b2' else 'l'\n",
    "line.vars[f'd_wire_ip1.{BEAM}'] = data_ip1['tct_opening_in_sigma'] * data_ip1[f'sigma_y_at_tctpv_4{side}1_{BEAM}'] + data_ip1['wire_retraction']\n",
    "line.vars[f'd_wire_ip5.{BEAM}'] = data_ip5['tct_opening_in_sigma'] * data_ip5[f'sigma_x_at_tctph_4{side}5_{BEAM}'] + data_ip5['wire_retraction']"
   ]
  },
  {
   "cell_type": "markdown",
   "metadata": {},
   "source": [
    "Assert initial k are correct in the knob"
   ]
  },
  {
   "cell_type": "code",
   "execution_count": null,
   "metadata": {},
   "outputs": [],
   "source": [
    "for k0 in data_ip1['k_0']:\n",
    "    assert data_ip1['k_0'][k0] == line.vars[k0]._get_value()"
   ]
  },
  {
   "cell_type": "markdown",
   "metadata": {},
   "source": [
    "Define list of k for the matching (setting them to 0 initially)"
   ]
  },
  {
   "cell_type": "code",
   "execution_count": null,
   "metadata": {},
   "outputs": [],
   "source": [
    "k_list_for_matching = [\n",
    "    f\"kq5.l1{BEAM}\",\n",
    "    f\"kq5.r1{BEAM}\",\n",
    "    f\"kq6.l1{BEAM}\",\n",
    "    f\"kq6.r1{BEAM}\",\n",
    "    f\"kq7.l1{BEAM}\",\n",
    "    f\"kq7.r1{BEAM}\",\n",
    "    f\"kq8.l1{BEAM}\",\n",
    "    f\"kq8.r1{BEAM}\",\n",
    "    f\"kq9.l1{BEAM}\",\n",
    "    f\"kq9.r1{BEAM}\",\n",
    "    f\"kq10.l1{BEAM}\",\n",
    "    f\"kq10.r1{BEAM}\",\n",
    "    f\"kqtl11.r1{BEAM}\",\n",
    "    f\"kqt12.r1{BEAM}\",\n",
    "    f\"kqt13.r1{BEAM}\",\n",
    "    f\"kq4.l5{BEAM}\",\n",
    "    f\"kq4.r5{BEAM}\",\n",
    "    f\"kq5.l5{BEAM}\",\n",
    "    f\"kq5.r5{BEAM}\",\n",
    "    f\"kq6.l5{BEAM}\",\n",
    "    f\"kq6.r5{BEAM}\",\n",
    "    f\"kq7.l5{BEAM}\",\n",
    "    f\"kq7.r5{BEAM}\",\n",
    "    f\"kq8.l5{BEAM}\",\n",
    "    f\"kq8.r5{BEAM}\",\n",
    "    f\"kq9.l5{BEAM}\",\n",
    "    f\"kq9.r5{BEAM}\",\n",
    "    f\"kq10.l5{BEAM}\",\n",
    "    f\"kq10.r5{BEAM}\",\n",
    "    f\"kqtl11.r5{BEAM}\",\n",
    "    f\"kqt12.r5{BEAM}\",\n",
    "    f\"kqt13.r5{BEAM}\",\n",
    "]\n"
   ]
  },
  {
   "cell_type": "markdown",
   "metadata": {},
   "source": [
    "Define/reset the delta_k, used to scale the knob with current"
   ]
  },
  {
   "cell_type": "code",
   "execution_count": null,
   "metadata": {},
   "outputs": [],
   "source": [
    "def reset_delta_k(k_list):\n",
    "    for kk in k_list:\n",
    "        collider.vars[f\"{kk}_delta\"] = 0.000000\n",
    "reset_delta_k(k_list_for_matching)"
   ]
  },
  {
   "cell_type": "markdown",
   "metadata": {},
   "source": [
    "Set the delta_k"
   ]
  },
  {
   "cell_type": "code",
   "execution_count": null,
   "metadata": {},
   "outputs": [],
   "source": [
    "for data in [data_ip1, data_ip5]:\n",
    "    for delta_k in data['k_delta']:\n",
    "        collider.vars[f'{delta_k}_delta'] = data['k_delta'][delta_k]"
   ]
  },
  {
   "cell_type": "markdown",
   "metadata": {},
   "source": [
    "Set the k"
   ]
  },
  {
   "cell_type": "code",
   "execution_count": null,
   "metadata": {},
   "outputs": [],
   "source": [
    "for k in k_list_for_matching:\n",
    "        collider.vars[f'{k}_0'] = collider.vars[k]._get_value()\n",
    "        # collider.vars[f'{k}_delta'] = 0.000000\n",
    "        if 'r1' in k or 'l1' in k:\n",
    "                collider.vars[k] = collider.vars[f'{k}_0'] + collider.vars[f'{k}_delta']*collider.vars[f'i_wire_ip1.{BEAM}']/350\n",
    "        elif 'r5' in k or 'l5' in k:\n",
    "                collider.vars[k] = collider.vars[f'{k}_0'] + collider.vars[f'{k}_delta']*collider.vars[f'i_wire_ip5.{BEAM}']/350"
   ]
  },
  {
   "cell_type": "markdown",
   "metadata": {},
   "source": [
    "Set the current"
   ]
  },
  {
   "cell_type": "code",
   "execution_count": null,
   "metadata": {},
   "outputs": [],
   "source": [
    "def plot_beta():\n",
    "    fig = go.Figure()\n",
    "\n",
    "    # Get ref current\n",
    "    line.vars[f'i_wire_ip1.{BEAM}'] = data_ip1[f'i_wire_ip1.{BEAM}']\n",
    "    line.vars[f'i_wire_ip5.{BEAM}'] = data_ip5[f'i_wire_ip5.{BEAM}']\n",
    "    tw_ref = line.twiss()\n",
    "\n",
    "    # Add traces, one for each slider step\n",
    "    l_steps = np.arange(350, -50, -50)\n",
    "    for idx, step in enumerate(l_steps):\n",
    "        line.vars[f'i_wire_ip1.{BEAM}'] = step\n",
    "        line.vars[f'i_wire_ip5.{BEAM}'] = step\n",
    "        tw = line.twiss()\n",
    "        fig.add_trace(\n",
    "            go.Scattergl(\n",
    "                visible=False,\n",
    "                line=dict(color=\"#00CED1\", width=6),\n",
    "                name=\"Betx\",\n",
    "                x=tw['s'][::20],\n",
    "                y=abs(tw['betx'][::20] - tw_ref['betx'][::20]) / tw_ref['betx'][::20],\n",
    "            )\n",
    "        )\n",
    "        fig.add_trace(\n",
    "            go.Scattergl(\n",
    "                visible=False,\n",
    "                line=dict(color=\"orange\", width=6),\n",
    "                name=\"Bety\",\n",
    "                x=tw['s'][::20],\n",
    "                y=abs(tw['bety'][::20] - tw_ref['bety'][::20]) / tw_ref['bety'][::20],\n",
    "            )\n",
    "        )\n",
    "\n",
    "    # Make 0th trace visible\n",
    "    fig.data[0].visible = True\n",
    "    fig.data[1].visible = True\n",
    "\n",
    "\n",
    "    # Create and add slider\n",
    "    steps = []\n",
    "    for i in range(0,len(fig.data),2):\n",
    "        step = dict(\n",
    "            method=\"update\",\n",
    "            args=[{\"visible\": [False] * len(fig.data)},],  # layout attribute\n",
    "        label=str(l_steps[i//2]))\n",
    "        step[\"args\"][0][\"visible\"][i] = True\n",
    "        step[\"args\"][0][\"visible\"][i+1] = True\n",
    "        steps.append(step)\n",
    "\n",
    "    sliders = [dict(\n",
    "        active=0,\n",
    "        currentvalue={\"prefix\": \"Wire current (A): \"},\n",
    "        pad={\"t\": 50},\n",
    "        steps=steps,\n",
    "    )]\n",
    "\n",
    "    fig.update_layout(\n",
    "        sliders=sliders,\n",
    "        yaxis=dict(range=[-0.1, 0.1], autorange=False)\n",
    "    )\n",
    "    fig.update_layout(template = 'plotly_white')\n",
    "    # Label y axis\n",
    "    fig.update_yaxes(title_text=r'Relative error on beta functions')\n",
    "    return fig\n",
    "\n"
   ]
  },
  {
   "cell_type": "code",
   "execution_count": null,
   "metadata": {},
   "outputs": [],
   "source": [
    "fig = plot_beta()\n",
    "fig.show()"
   ]
  },
  {
   "cell_type": "code",
   "execution_count": null,
   "metadata": {},
   "outputs": [],
   "source": [
    "def plot_orbit():\n",
    "    fig = go.Figure()\n",
    "\n",
    "    # Get ref current\n",
    "    line.vars[f'i_wire_ip1.{BEAM}'] = data_ip1[f'i_wire_ip1.{BEAM}']\n",
    "    line.vars[f'i_wire_ip5.{BEAM}'] = data_ip5[f'i_wire_ip5.{BEAM}']\n",
    "    tw_ref = line.twiss()\n",
    "\n",
    "    # Add traces, one for each slider step\n",
    "    l_steps = np.arange(350, -50, -50)\n",
    "    for step in l_steps:\n",
    "        line.vars[f'i_wire_ip1.{BEAM}'] = step\n",
    "        line.vars[f'i_wire_ip5.{BEAM}'] = step\n",
    "        tw = line.twiss()\n",
    "        fig.add_trace(\n",
    "            go.Scattergl(\n",
    "                visible=False,\n",
    "                line=dict(color=\"#00CED1\", width=6),\n",
    "                name=\"x\",\n",
    "                x=tw['s'][::20],\n",
    "                y=np.log(abs(tw['x'][::20]- tw_ref['x'][::20])+1e-26)\n",
    "                )\n",
    "            )\n",
    "        fig.add_trace(\n",
    "            go.Scattergl(\n",
    "                visible=False,\n",
    "                line=dict(color=\"orange\", width=6),\n",
    "                name=\"y\",\n",
    "                x=tw['s'][::20],\n",
    "                y=np.log(abs(tw['y'][::20]- tw_ref['y'][::20])+1e-26)\n",
    "                )\n",
    "            )\n",
    "        \n",
    "    # Make 0th trace visible\n",
    "    fig.data[0].visible = True\n",
    "    fig.data[1].visible = True\n",
    "\n",
    "    # Create and add slider\n",
    "    steps = []\n",
    "    for i in range(0,len(fig.data),2):\n",
    "        step = dict(\n",
    "            method=\"update\",\n",
    "            args=[{\"visible\": [False] * len(fig.data)},],  # layout attribute\n",
    "        label=str(l_steps[i//2]))\n",
    "        step[\"args\"][0][\"visible\"][i] = True\n",
    "        step[\"args\"][0][\"visible\"][i+1] = True\n",
    "        steps.append(step)\n",
    "\n",
    "    sliders = [dict(\n",
    "        active=0,\n",
    "        currentvalue={\"prefix\": \"Wire current (A): \"},\n",
    "        pad={\"t\": 50},\n",
    "        steps=steps,\n",
    "    )]\n",
    "\n",
    "    fig.update_layout(\n",
    "        sliders=sliders,\n",
    "        yaxis=dict(range=[-28, -8], autorange=False)\n",
    "    )\n",
    "    fig.update_layout(template = 'plotly_white')\n",
    "\n",
    "    # Label y axis\n",
    "    fig.update_yaxes(title_text=r'Log(Absolute error on closed-orbit)')\n",
    "    \n",
    "    return fig\n",
    "\n",
    "\n"
   ]
  },
  {
   "cell_type": "code",
   "execution_count": null,
   "metadata": {},
   "outputs": [],
   "source": [
    "fig = plot_orbit()\n",
    "fig.show()"
   ]
  },
  {
   "cell_type": "markdown",
   "metadata": {},
   "source": [
    "Update crossing and plot again"
   ]
  },
  {
   "cell_type": "code",
   "execution_count": null,
   "metadata": {},
   "outputs": [],
   "source": [
    "collider.vars[\"on_x1\"] = 160.000\n",
    "collider.vars[\"on_sep1\"] = 0.0\n",
    "collider.vars[\"phi_IR1\"] = 90.000\n",
    "\n",
    "collider.vars[\"on_x2h\"] = 0.000\n",
    "collider.vars[\"on_sep2h\"] = -0.01  # 1.000\n",
    "collider.vars[\"on_x2v\"] = 200.000\n",
    "collider.vars[\"on_sep2v\"] = 0.000\n",
    "collider.vars[\"phi_IR2\"] = 90.000\n",
    "\n",
    "collider.vars[\"on_x5\"] = 160.000\n",
    "collider.vars[\"on_sep5\"] = 0.0\n",
    "collider.vars[\"phi_IR5\"] = 0.000\n",
    "\n",
    "collider.vars[\"on_x8h\"] = 0.000\n",
    "collider.vars[\"on_sep8h\"] = -0.01  # -1.000\n",
    "collider.vars[\"on_x8v\"] = 200.000\n",
    "collider.vars[\"on_sep8v\"] = 0.000\n",
    "collider.vars[\"phi_IR8\"] = 180.000"
   ]
  },
  {
   "cell_type": "code",
   "execution_count": null,
   "metadata": {},
   "outputs": [],
   "source": [
    "fig = plot_beta()\n",
    "fig.show()"
   ]
  },
  {
   "cell_type": "code",
   "execution_count": null,
   "metadata": {},
   "outputs": [],
   "source": [
    "fig = plot_orbit()\n",
    "fig.show()"
   ]
  },
  {
   "cell_type": "code",
   "execution_count": null,
   "metadata": {},
   "outputs": [],
   "source": []
  },
  {
   "cell_type": "code",
   "execution_count": null,
   "metadata": {},
   "outputs": [],
   "source": []
  }
 ],
 "metadata": {
  "kernelspec": {
   "display_name": "Python 3",
   "language": "python",
   "name": "python3"
  },
  "language_info": {
   "codemirror_mode": {
    "name": "ipython",
    "version": 3
   },
   "file_extension": ".py",
   "mimetype": "text/x-python",
   "name": "python",
   "nbconvert_exporter": "python",
   "pygments_lexer": "ipython3",
   "version": "3.10.14"
  }
 },
 "nbformat": 4,
 "nbformat_minor": 2
}
