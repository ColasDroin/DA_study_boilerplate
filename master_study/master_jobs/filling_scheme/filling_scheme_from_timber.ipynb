{
 "cells": [
  {
   "cell_type": "code",
   "execution_count": 1,
   "metadata": {},
   "outputs": [],
   "source": [
    "import matplotlib.pyplot as plt\n",
    "import pandas as pd\n",
    "import numpy as np\n",
    "import json"
   ]
  },
  {
   "cell_type": "code",
   "execution_count": 2,
   "metadata": {},
   "outputs": [],
   "source": [
    "df_b1=pd.read_parquet('/eos/project/l/lhc-lumimod/LuminosityFollowUp/2023/rawdata/HX:FILLN=8673', columns=['LHC.BCTFR.A6R4.B1:BUNCH_INTENSITY']).dropna()\n",
    "df_b2=pd.read_parquet('/eos/project/l/lhc-lumimod/LuminosityFollowUp/2023/rawdata/HX:FILLN=8672', columns=['LHC.BCTFR.A6R4.B2:BUNCH_INTENSITY']).dropna()\n"
   ]
  },
  {
   "cell_type": "code",
   "execution_count": 3,
   "metadata": {},
   "outputs": [
    {
     "data": {
      "text/html": [
       "<div>\n",
       "<style scoped>\n",
       "    .dataframe tbody tr th:only-of-type {\n",
       "        vertical-align: middle;\n",
       "    }\n",
       "\n",
       "    .dataframe tbody tr th {\n",
       "        vertical-align: top;\n",
       "    }\n",
       "\n",
       "    .dataframe thead th {\n",
       "        text-align: right;\n",
       "    }\n",
       "</style>\n",
       "<table border=\"1\" class=\"dataframe\">\n",
       "  <thead>\n",
       "    <tr style=\"text-align: right;\">\n",
       "      <th></th>\n",
       "      <th>LHC.BCTFR.A6R4.B1:BUNCH_INTENSITY</th>\n",
       "      <th>nonzero</th>\n",
       "    </tr>\n",
       "  </thead>\n",
       "  <tbody>\n",
       "    <tr>\n",
       "      <th>1682609178296802000</th>\n",
       "      <td>[144846030000.0, 146387390000.0, 159032900000....</td>\n",
       "      <td>1020</td>\n",
       "    </tr>\n",
       "    <tr>\n",
       "      <th>1682609183296814000</th>\n",
       "      <td>[144842820000.0, 146387390000.0, 159024870000....</td>\n",
       "      <td>1020</td>\n",
       "    </tr>\n",
       "    <tr>\n",
       "      <th>1682609184296802000</th>\n",
       "      <td>[144834600000.0, 146367710000.0, 159020450000....</td>\n",
       "      <td>1020</td>\n",
       "    </tr>\n",
       "    <tr>\n",
       "      <th>1682609185296802000</th>\n",
       "      <td>[144841160000.0, 146371990000.0, 159022710000....</td>\n",
       "      <td>1020</td>\n",
       "    </tr>\n",
       "    <tr>\n",
       "      <th>1682609188296801000</th>\n",
       "      <td>[144853470000.0, 146373330000.0, 159033110000....</td>\n",
       "      <td>1020</td>\n",
       "    </tr>\n",
       "    <tr>\n",
       "      <th>...</th>\n",
       "      <td>...</td>\n",
       "      <td>...</td>\n",
       "    </tr>\n",
       "    <tr>\n",
       "      <th>1682609168296803000</th>\n",
       "      <td>[144849850000.0, 146372330000.0, 159029690000....</td>\n",
       "      <td>1020</td>\n",
       "    </tr>\n",
       "    <tr>\n",
       "      <th>1682609170296803000</th>\n",
       "      <td>[144847260000.0, 146384000000.0, 159030980000....</td>\n",
       "      <td>1020</td>\n",
       "    </tr>\n",
       "    <tr>\n",
       "      <th>1682609171296814000</th>\n",
       "      <td>[144858280000.0, 146385170000.0, 159036110000....</td>\n",
       "      <td>1020</td>\n",
       "    </tr>\n",
       "    <tr>\n",
       "      <th>1682609173296795000</th>\n",
       "      <td>[144846230000.0, 146365300000.0, 159022270000....</td>\n",
       "      <td>1020</td>\n",
       "    </tr>\n",
       "    <tr>\n",
       "      <th>1682609174296802000</th>\n",
       "      <td>[144836590000.0, 146374540000.0, 159030100000....</td>\n",
       "      <td>1020</td>\n",
       "    </tr>\n",
       "  </tbody>\n",
       "</table>\n",
       "<p>2061 rows × 2 columns</p>\n",
       "</div>"
      ],
      "text/plain": [
       "                                     LHC.BCTFR.A6R4.B1:BUNCH_INTENSITY  \\\n",
       "1682609178296802000  [144846030000.0, 146387390000.0, 159032900000....   \n",
       "1682609183296814000  [144842820000.0, 146387390000.0, 159024870000....   \n",
       "1682609184296802000  [144834600000.0, 146367710000.0, 159020450000....   \n",
       "1682609185296802000  [144841160000.0, 146371990000.0, 159022710000....   \n",
       "1682609188296801000  [144853470000.0, 146373330000.0, 159033110000....   \n",
       "...                                                                ...   \n",
       "1682609168296803000  [144849850000.0, 146372330000.0, 159029690000....   \n",
       "1682609170296803000  [144847260000.0, 146384000000.0, 159030980000....   \n",
       "1682609171296814000  [144858280000.0, 146385170000.0, 159036110000....   \n",
       "1682609173296795000  [144846230000.0, 146365300000.0, 159022270000....   \n",
       "1682609174296802000  [144836590000.0, 146374540000.0, 159030100000....   \n",
       "\n",
       "                     nonzero  \n",
       "1682609178296802000     1020  \n",
       "1682609183296814000     1020  \n",
       "1682609184296802000     1020  \n",
       "1682609185296802000     1020  \n",
       "1682609188296801000     1020  \n",
       "...                      ...  \n",
       "1682609168296803000     1020  \n",
       "1682609170296803000     1020  \n",
       "1682609171296814000     1020  \n",
       "1682609173296795000     1020  \n",
       "1682609174296802000     1020  \n",
       "\n",
       "[2061 rows x 2 columns]"
      ]
     },
     "execution_count": 3,
     "metadata": {},
     "output_type": "execute_result"
    }
   ],
   "source": [
    "# Add a column to the dataframe which contain the number of non-zero elements in the array of column LHC.BCTFR.A6R4.B1:BUNCH_INTENSITY\n",
    "df_b1['nonzero']=df_b1['LHC.BCTFR.A6R4.B1:BUNCH_INTENSITY'].apply(lambda x: np.count_nonzero(x))\n",
    "\n",
    "# Get the row with the maximum number of non-zero elements\n",
    "df_b1_max=df_b1[df_b1['nonzero']==df_b1['nonzero'].max()]\n",
    "\n",
    "df_b1_max"
   ]
  },
  {
   "cell_type": "code",
   "execution_count": 4,
   "metadata": {},
   "outputs": [],
   "source": [
    "b1 = [1 if x>1e6 else 0 for x in df_b1_max.iloc[0].values[0]]"
   ]
  },
  {
   "cell_type": "code",
   "execution_count": 5,
   "metadata": {},
   "outputs": [
    {
     "data": {
      "image/png": "[encoded data removed]",
      "text/plain": [
       "<Figure size 640x480 with 1 Axes>"
      ]
     },
     "metadata": {},
     "output_type": "display_data"
    }
   ],
   "source": [
    "plt.plot(b1[:200], '.', markersize=1)\n",
    "plt.title('B1')\n",
    "plt.grid()\n",
    "plt.show()"
   ]
  },
  {
   "cell_type": "code",
   "execution_count": 6,
   "metadata": {},
   "outputs": [
    {
     "data": {
      "text/html": [
       "<div>\n",
       "<style scoped>\n",
       "    .dataframe tbody tr th:only-of-type {\n",
       "        vertical-align: middle;\n",
       "    }\n",
       "\n",
       "    .dataframe tbody tr th {\n",
       "        vertical-align: top;\n",
       "    }\n",
       "\n",
       "    .dataframe thead th {\n",
       "        text-align: right;\n",
       "    }\n",
       "</style>\n",
       "<table border=\"1\" class=\"dataframe\">\n",
       "  <thead>\n",
       "    <tr style=\"text-align: right;\">\n",
       "      <th></th>\n",
       "      <th>LHC.BCTFR.A6R4.B2:BUNCH_INTENSITY</th>\n",
       "      <th>nonzero</th>\n",
       "    </tr>\n",
       "  </thead>\n",
       "  <tbody>\n",
       "    <tr>\n",
       "      <th>1682597667296795000</th>\n",
       "      <td>[138962880000.0, 143865610000.0, 146946770000....</td>\n",
       "      <td>1896</td>\n",
       "    </tr>\n",
       "    <tr>\n",
       "      <th>1682597668296803000</th>\n",
       "      <td>[138962160000.0, 143853910000.0, 146943640000....</td>\n",
       "      <td>1896</td>\n",
       "    </tr>\n",
       "    <tr>\n",
       "      <th>1682597669296813000</th>\n",
       "      <td>[138947900000.0, 143852880000.0, 146945080000....</td>\n",
       "      <td>1896</td>\n",
       "    </tr>\n",
       "    <tr>\n",
       "      <th>1682597670296796000</th>\n",
       "      <td>[138964220000.0, 143856190000.0, 146943210000....</td>\n",
       "      <td>1896</td>\n",
       "    </tr>\n",
       "    <tr>\n",
       "      <th>1682597673296802000</th>\n",
       "      <td>[138954310000.0, 143849160000.0, 146959120000....</td>\n",
       "      <td>1896</td>\n",
       "    </tr>\n",
       "    <tr>\n",
       "      <th>...</th>\n",
       "      <td>...</td>\n",
       "      <td>...</td>\n",
       "    </tr>\n",
       "    <tr>\n",
       "      <th>1682601594296803000</th>\n",
       "      <td>[127405500000.0, 131917110000.0, 136631290000....</td>\n",
       "      <td>1896</td>\n",
       "    </tr>\n",
       "    <tr>\n",
       "      <th>1682601596296805000</th>\n",
       "      <td>[127385264000.0, 131887374000.0, 136618280000....</td>\n",
       "      <td>1896</td>\n",
       "    </tr>\n",
       "    <tr>\n",
       "      <th>1682601598296803000</th>\n",
       "      <td>[127372890000.0, 131885720000.0, 136614355000....</td>\n",
       "      <td>1896</td>\n",
       "    </tr>\n",
       "    <tr>\n",
       "      <th>1682601600296801000</th>\n",
       "      <td>[127379890000.0, 131886140000.0, 136623030000....</td>\n",
       "      <td>1896</td>\n",
       "    </tr>\n",
       "    <tr>\n",
       "      <th>1682601601296802000</th>\n",
       "      <td>[127371220000.0, 131889030000.0, 136612910000....</td>\n",
       "      <td>1896</td>\n",
       "    </tr>\n",
       "  </tbody>\n",
       "</table>\n",
       "<p>4068 rows × 2 columns</p>\n",
       "</div>"
      ],
      "text/plain": [
       "                                     LHC.BCTFR.A6R4.B2:BUNCH_INTENSITY  \\\n",
       "1682597667296795000  [138962880000.0, 143865610000.0, 146946770000....   \n",
       "1682597668296803000  [138962160000.0, 143853910000.0, 146943640000....   \n",
       "1682597669296813000  [138947900000.0, 143852880000.0, 146945080000....   \n",
       "1682597670296796000  [138964220000.0, 143856190000.0, 146943210000....   \n",
       "1682597673296802000  [138954310000.0, 143849160000.0, 146959120000....   \n",
       "...                                                                ...   \n",
       "1682601594296803000  [127405500000.0, 131917110000.0, 136631290000....   \n",
       "1682601596296805000  [127385264000.0, 131887374000.0, 136618280000....   \n",
       "1682601598296803000  [127372890000.0, 131885720000.0, 136614355000....   \n",
       "1682601600296801000  [127379890000.0, 131886140000.0, 136623030000....   \n",
       "1682601601296802000  [127371220000.0, 131889030000.0, 136612910000....   \n",
       "\n",
       "                     nonzero  \n",
       "1682597667296795000     1896  \n",
       "1682597668296803000     1896  \n",
       "1682597669296813000     1896  \n",
       "1682597670296796000     1896  \n",
       "1682597673296802000     1896  \n",
       "...                      ...  \n",
       "1682601594296803000     1896  \n",
       "1682601596296805000     1896  \n",
       "1682601598296803000     1896  \n",
       "1682601600296801000     1896  \n",
       "1682601601296802000     1896  \n",
       "\n",
       "[4068 rows x 2 columns]"
      ]
     },
     "execution_count": 6,
     "metadata": {},
     "output_type": "execute_result"
    }
   ],
   "source": [
    "# Add a column to the dataframe which contain the number of non-zero elements in the array of column LHC.BCTFR.A6R4.B1:BUNCH_INTENSITY\n",
    "df_b2['nonzero']=df_b2['LHC.BCTFR.A6R4.B2:BUNCH_INTENSITY'].apply(lambda x: np.count_nonzero(x))\n",
    "\n",
    "# Get the row with the maximum number of non-zero elements\n",
    "df_b2_max=df_b2[df_b2['nonzero']==df_b2['nonzero'].max()]\n",
    "\n",
    "df_b2_max"
   ]
  },
  {
   "cell_type": "code",
   "execution_count": 7,
   "metadata": {},
   "outputs": [],
   "source": [
    "b2 = [1 if x>1e6 else 0 for x in df_b2_max.iloc[0].values[0]]"
   ]
  },
  {
   "cell_type": "code",
   "execution_count": 13,
   "metadata": {},
   "outputs": [
    {
     "data": {
      "image/png": "[encoded data removed]",
      "text/plain": [
       "<Figure size 640x480 with 1 Axes>"
      ]
     },
     "metadata": {},
     "output_type": "display_data"
    }
   ],
   "source": [
    "plt.plot(b2[:85], '.', markersize=1)\n",
    "plt.axvline(x=84, color='r', alpha=0.5)\n",
    "plt.title('B2')\n",
    "plt.grid()\n",
    "plt.show()"
   ]
  },
  {
   "cell_type": "code",
   "execution_count": 9,
   "metadata": {},
   "outputs": [],
   "source": [
    "b1[85:] = b2[85:]"
   ]
  },
  {
   "cell_type": "code",
   "execution_count": 10,
   "metadata": {},
   "outputs": [
    {
     "data": {
      "image/png": "[encoded data removed]",
      "text/plain": [
       "<Figure size 640x480 with 1 Axes>"
      ]
     },
     "metadata": {},
     "output_type": "display_data"
    }
   ],
   "source": [
    "plt.plot(b1[:100], '.', markersize=2)\n",
    "plt.plot(b2[:100], '.', markersize=1)\n",
    "plt.grid()\n",
    "plt.show()"
   ]
  },
  {
   "cell_type": "code",
   "execution_count": 11,
   "metadata": {},
   "outputs": [
    {
     "name": "stdout",
     "output_type": "stream",
     "text": [
      "3564 3564\n"
     ]
    }
   ],
   "source": [
    "print(len(b1), len(b2))"
   ]
  },
  {
   "cell_type": "code",
   "execution_count": 12,
   "metadata": {},
   "outputs": [],
   "source": [
    "# Drop both filling schemes in a json\n",
    "with open('filling_scheme_scrubbing.json', 'w') as f:\n",
    "    json.dump({'beam1':b1, 'beam2':b2}, f)"
   ]
  }
 ],
 "metadata": {
  "kernelspec": {
   "display_name": "Python 3",
   "language": "python",
   "name": "python3"
  },
  "language_info": {
   "codemirror_mode": {
    "name": "ipython",
    "version": 3
   },
   "file_extension": ".py",
   "mimetype": "text/x-python",
   "name": "python",
   "nbconvert_exporter": "python",
   "pygments_lexer": "ipython3",
   "version": "3.10.12"
  }
 },
 "nbformat": 4,
 "nbformat_minor": 2
}
