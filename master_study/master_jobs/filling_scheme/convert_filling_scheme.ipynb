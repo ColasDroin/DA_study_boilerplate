{
 "cells": [
  {
   "cell_type": "code",
   "execution_count": 1,
   "metadata": {},
   "outputs": [],
   "source": [
    "import json\n",
    "import numpy as np"
   ]
  },
  {
   "cell_type": "code",
   "execution_count": 2,
   "metadata": {},
   "outputs": [],
   "source": [
    "filling_scheme_path = \"25ns_2760b_2748_2492_2574_288bpi_13inj_800ns_bs200ns.csv\"\n",
    "with open(filling_scheme_path, 'r') as file:\n",
    "    file = file.readlines()"
   ]
  },
  {
   "cell_type": "code",
   "execution_count": 3,
   "metadata": {},
   "outputs": [],
   "source": [
    "array_b1 = []\n",
    "for line in file:\n",
    "    if line.startswith('B1 filled buckets'):\n",
    "        array_b1 = [(int(x.strip())-1)//10 for x in line.split(',')[1:]]\n",
    "\n",
    "array_b2 = []\n",
    "for line in file:\n",
    "    if line.startswith('B2 filled buckets'):\n",
    "        array_b2 = [(int(x.strip())-1)//10 for x in line.split(',')[1:]]"
   ]
  },
  {
   "cell_type": "code",
   "execution_count": 4,
   "metadata": {},
   "outputs": [],
   "source": [
    "B1 = np.zeros(3564, dtype=int)\n",
    "B2 = np.zeros(3564, dtype = int)\n",
    "B1[array_b1] = 1\n",
    "B2[array_b2] = 1\n"
   ]
  },
  {
   "cell_type": "code",
   "execution_count": 7,
   "metadata": {},
   "outputs": [],
   "source": [
    "data_json = {\"beam1\": [int(ii) for ii in B1], \"beam2\": [int(ii) for ii in B2]}\n",
    "\n",
    "with open(filling_scheme_path.split(\".csv\")[0] + \"_converted.json\", \"w\") as file_bool:\n",
    "    json.dump(data_json, file_bool)"
   ]
  },
  {
   "cell_type": "code",
   "execution_count": null,
   "metadata": {},
   "outputs": [],
   "source": []
  }
 ],
 "metadata": {
  "kernelspec": {
   "display_name": "Python 3",
   "language": "python",
   "name": "python3"
  },
  "language_info": {
   "codemirror_mode": {
    "name": "ipython",
    "version": 3
   },
   "file_extension": ".py",
   "mimetype": "text/x-python",
   "name": "python",
   "nbconvert_exporter": "python",
   "pygments_lexer": "ipython3",
   "version": "3.10.12"
  },
  "orig_nbformat": 4
 },
 "nbformat": 4,
 "nbformat_minor": 2
}
