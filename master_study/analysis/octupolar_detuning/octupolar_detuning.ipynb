{
 "cells": [
  {
   "cell_type": "code",
   "execution_count": 1,
   "metadata": {},
   "outputs": [],
   "source": [
    "# Standard imports\n",
    "import pandas as pd\n",
    "import sys \n",
    "import os\n",
    "import seaborn as sns\n",
    "import os\n",
    "import shutil\n",
    "import numpy as np\n",
    "import xtrack as xt\n",
    "import matplotlib.pyplot as plt\n",
    "# Local imports\n",
    "sys.path.insert(1, os.path.join(sys.path[0], '..'))\n"
   ]
  },
  {
   "cell_type": "code",
   "execution_count": 2,
   "metadata": {},
   "outputs": [
    {
     "name": "stdout",
     "output_type": "stream",
     "text": [
      "Done loading line from dict.           \n",
      "Done loading line from dict.           \n",
      "Done loading line from dict.           \n",
      "Done loading line from dict.           \n",
      "Found suitable prebuilt kernel `default_bb3d`.\n",
      "Found suitable prebuilt kernel `default_bb3d`.\n",
      "Found suitable prebuilt kernel `default_only_xtrack`.\n",
      "Found suitable prebuilt kernel `default_only_xtrack`.\n"
     ]
    }
   ],
   "source": [
    "collider = xt.Multiline.from_json(\"/afs/cern.ch/work/c/cdroin/private/example_DA_study/master_study/scans/opt_collapse_1000_1500_thin_collider/base_collider/xtrack_0000/collider.json\")\n",
    "collider.build_trackers()"
   ]
  },
  {
   "cell_type": "code",
   "execution_count": 3,
   "metadata": {},
   "outputs": [],
   "source": [
    "def get_amplitude_detuning(line, nemitt_x=1.e-6, nemitt_y=1.e-6, num_turns=100, zeropad=100000):\n",
    "    '''\n",
    "    returns axx, axy, ayx, ayy that correspond to the first order amplitude-detuning,\n",
    "    estimated through tracking.\n",
    "    The relations between tune (Q) and action (J) in this case is:\n",
    "    $$ Q_x = Q_{x,0} + axx * Jx + axy * Jy $$\n",
    "    $$ Q_y = Q_{y,0} + ayx * Jx + ayy * Jy $$\n",
    "    '''\n",
    "\n",
    "    egeom_x = nemitt_x / line.particle_ref.gamma0\n",
    "    egeom_y = nemitt_y / line.particle_ref.gamma0\n",
    "\n",
    "    frequency = np.fft.fftfreq(zeropad)\n",
    "\n",
    "    sigma = 2\n",
    "    num_r = 50\n",
    "    JJ = np.linspace(0.01, sigma**2/2., num_r)\n",
    "    A_norm = np.sqrt(2*JJ).flatten()\n",
    "    other_norm = 0.01\n",
    "\n",
    "    particles = line.build_particles(x_norm=A_norm, y_norm=other_norm,\n",
    "                                     nemitt_x=nemitt_x, nemitt_y=nemitt_y)\n",
    "\n",
    "    line.track(particles, num_turns=num_turns, turn_by_turn_monitor=True)\n",
    "    # line.tracker._context.synchronize()\n",
    "\n",
    "    x = line.record_last_track.x\n",
    "    y =  line.record_last_track.y\n",
    "\n",
    "    qx = [abs(frequency[np.argmax(np.abs(np.fft.fft(x[ii]*np.hanning(x.shape[1]), n=zeropad)))]) for ii in range(x.shape[0])]\n",
    "    qy = [abs(frequency[np.argmax(np.abs(np.fft.fft(y[ii]*np.hanning(x.shape[1]), n=zeropad)))]) for ii in range(x.shape[0])]\n",
    "    # qx = NAFFlib.multiparticle_tunes(x)\n",
    "    # qy = NAFFlib.multiparticle_tunes(y)\n",
    "\n",
    "    axx = np.polyfit(JJ*egeom_x, qx, 1)[0]\n",
    "    ayx = np.polyfit(JJ*egeom_x, qy, 1)[0]\n",
    "\n",
    "    # switch x and y\n",
    "    particles = line.build_particles(x_norm=other_norm, y_norm=A_norm,\n",
    "                                     nemitt_x=nemitt_x, nemitt_y=nemitt_y)\n",
    "\n",
    "    line.track(particles, num_turns=num_turns, turn_by_turn_monitor=True)\n",
    "    # line.tracker._context.synchronize()\n",
    "\n",
    "    x = line.record_last_track.x\n",
    "    y = line.record_last_track.y\n",
    "\n",
    "    qx = [abs(frequency[np.argmax(np.abs(np.fft.fft(x[ii]*np.hanning(x.shape[1]), n=zeropad)))]) for ii in range(x.shape[0])]\n",
    "    qy = [abs(frequency[np.argmax(np.abs(np.fft.fft(y[ii]*np.hanning(x.shape[1]), n=zeropad)))]) for ii in range(x.shape[0])]\n",
    "    # qx = NAFFlib.multiparticle_tunes(x)\n",
    "    # qy = NAFFlib.multiparticle_tunes(y)\n",
    "\n",
    "    axy = np.polyfit(JJ*egeom_y, qx, 1)[0]\n",
    "    ayy = np.polyfit(JJ*egeom_y, qy, 1)[0]\n",
    "\n",
    "    return axx, axy, ayx, ayy"
   ]
  },
  {
   "cell_type": "code",
   "execution_count": 4,
   "metadata": {},
   "outputs": [
    {
     "name": "stdout",
     "output_type": "stream",
     "text": [
      "axx = 6.694 um^-1\n",
      "axy = 12.592 um^-1\n",
      "ayx = 137.851 um^-1\n",
      "ayy = 6.436 um^-1\n"
     ]
    }
   ],
   "source": [
    "axx, axy, ayx, ayy = get_amplitude_detuning(collider.lhcb1)\n",
    "\n",
    "print(f\"axx = {1.e-6*axx:.3f} um^-1\")\n",
    "print(f\"axy = {1.e-6*axy:.3f} um^-1\")\n",
    "print(f\"ayx = {1.e-6*ayx:.3f} um^-1\")\n",
    "print(f\"ayy = {1.e-6*ayy:.3f} um^-1\")"
   ]
  },
  {
   "cell_type": "code",
   "execution_count": 5,
   "metadata": {},
   "outputs": [],
   "source": [
    "#def get_analytical_detuning(line):\n",
    "\n",
    "# get octupolar and quadrupolar strengths\n",
    "d_oct = {}\n",
    "d_quad = {}\n",
    "for element,name in zip(collider.lhcb1.elements, collider.lhcb1.element_names):\n",
    "    #if 'mo.' in name:\n",
    "    #    print(name, element.to_dict())\n",
    "    if '_order' in element.to_dict():\n",
    "        if element.to_dict()['_order'] >= 3:\n",
    "            if element.to_dict()['knl'][3]!=0:\n",
    "                d_oct[name] = {'knl' : element.to_dict()['knl'][3]}\n",
    "                if element.to_dict()['ksl'][3]!=0:\n",
    "                    print('CAUTION, ksl is not zero for element', name)\n",
    "        elif element.to_dict()['_order'] >= 1:\n",
    "            if element.to_dict()['knl'][1]!=0:\n",
    "                d_quad[name] = {'knl' : element.to_dict()['knl'][1]}\n",
    "                if element.to_dict()['ksl'][1]!=0:\n",
    "                    print('CAUTION, ksl is not zero for element', name)\n",
    "            \n",
    "                    \n",
    "# Get corresponding beta functions\n",
    "tw = collider.lhcb1.twiss(method=\"6d\", matrix_stability_tol=100)\n",
    "octupoles = tw[['s', 'betx', 'bety'], 'mo.*']\n",
    "quadrupoles = tw[['s', 'betx', 'bety'], 'mq.*']\n",
    "\n",
    "for line in octupoles.rows:\n",
    "    name = str(line.name.squeeze())\n",
    "    if name in d_oct:\n",
    "        d_oct[name]['betx'] = line.betx\n",
    "        d_oct[name]['bety'] = line.bety\n",
    "        \n",
    "for line in quadrupoles.rows:\n",
    "    name = str(line.name.squeeze())\n",
    "    if name in d_quad:\n",
    "        d_quad[name]['betx'] = line.betx\n",
    "        d_quad[name]['bety'] = line.bety"
   ]
  },
  {
   "cell_type": "code",
   "execution_count": 8,
   "metadata": {},
   "outputs": [],
   "source": [
    "# Get analytical octupolar detuning\n",
    "array_Jx = np.linspace(0.01, 6, 100)\n",
    "array_Jy = np.linspace(0.01, 6, 100)\n",
    "array_dqx_oct = 1 / (2 * np.pi) * 0.75 * np.sum( [ d_oct[name][\"knl\"] * (d_oct[name][\"betx\"] ** 2 * array_Jx - 2 * d_oct[name][\"betx\"] * d_oct[name][\"bety\"]*array_Jy) for name in d_oct ], axis = 0 ) \n",
    "array_dqy_oct = 1 / (2 * np.pi) * (-0.75) * np.sum( [ d_oct[name][\"knl\"] * (2 * d_oct[name][\"betx\"] * d_oct[name][\"bety\"]*array_Jx - d_oct[name][\"bety\"] ** 2 * array_Jy) for name in d_oct ], axis = 0 ) \n",
    "array_dqx_quad = 1 / (2 * np.pi) * 0.5 * np.sum( [ d_quad[name][\"knl\"] * d_quad[name][\"betx\"] * array_Jx for name in d_quad ], axis = 0 ) \n",
    "array_dqy_quad = 1 / (2 * np.pi) * (-0.5) * np.sum( [ d_quad[name][\"knl\"] * d_quad[name][\"bety\"] * array_Jy for name in d_quad ], axis = 0 ) \n",
    "array_dqx = array_dqx_oct + array_dqx_quad\n",
    "array_dqy = array_dqy_oct + array_dqy_quad"
   ]
  },
  {
   "cell_type": "code",
   "execution_count": 9,
   "metadata": {},
   "outputs": [
    {
     "data": {
      "image/png": "[encoded data removed]",
      "text/plain": [
       "<Figure size 640x480 with 1 Axes>"
      ]
     },
     "metadata": {},
     "output_type": "display_data"
    }
   ],
   "source": [
    "plt.plot(array_Jx,array_dqx, label=\"analytical\")\n",
    "plt.plot(array_Jx, axx * array_Jx + axy * array_Jy, label=\"tracking\")\n",
    "plt.yscale(\"log\")\n",
    "plt.legend()\n",
    "plt.xlabel(\"Jx\")\n",
    "plt.ylabel(\"Horizontal Detuning\")\n",
    "plt.grid()\n",
    "plt.show()"
   ]
  },
  {
   "cell_type": "code",
   "execution_count": null,
   "metadata": {},
   "outputs": [],
   "source": []
  }
 ],
 "metadata": {
  "kernelspec": {
   "display_name": "Python 3",
   "language": "python",
   "name": "python3"
  },
  "language_info": {
   "codemirror_mode": {
    "name": "ipython",
    "version": 3
   },
   "file_extension": ".py",
   "mimetype": "text/x-python",
   "name": "python",
   "nbconvert_exporter": "python",
   "pygments_lexer": "ipython3",
   "version": "3.10.12"
  },
  "orig_nbformat": 4
 },
 "nbformat": 4,
 "nbformat_minor": 2
}
