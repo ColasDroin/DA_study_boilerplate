{
 "cells": [
  {
   "cell_type": "markdown",
   "metadata": {},
   "source": [
    "### Imports"
   ]
  },
  {
   "cell_type": "code",
   "execution_count": null,
   "metadata": {},
   "outputs": [],
   "source": [
    "import pandas as pd\n",
    "import numpy as np\n",
    "import matplotlib\n",
    "import matplotlib.pyplot as plt\n",
    "import seaborn as sns\n",
    "import pickle\n",
    "\n",
    "# Apply better style\n",
    "sns.set_theme(style=\"whitegrid\")\n",
    "custom_params = {\"axes.spines.right\": False, \"axes.spines.top\": False}\n",
    "sns.set_theme(style=\"ticks\", rc=custom_params)\n",
    "# sns.set(font='Adobe Devanagari')\n",
    "sns.set_context(\"paper\", font_scale=1, rc={\"lines.linewidth\": 0.5, \"grid.linewidth\": 0.3})\n",
    "\n",
    "\n",
    "matplotlib.rcParams[\"mathtext.fontset\"] = \"cm\"\n",
    "matplotlib.rcParams[\"font.family\"] = \"STIXGeneral\"\n",
    "# Not italized latex\n",
    "matplotlib.rcParams[\"mathtext.default\"] = \"regular\"\n",
    "matplotlib.rcParams[\"font.weight\"] = \"light\"\n",
    "\n",
    "%config InlineBackend.figure_format='png'\n",
    "\n",
    "# Retina quality for plots\n",
    "%config InlineBackend.figure_format = 'retina'"
   ]
  },
  {
   "cell_type": "markdown",
   "metadata": {},
   "source": [
    "### Load data"
   ]
  },
  {
   "cell_type": "code",
   "execution_count": null,
   "metadata": {},
   "outputs": [],
   "source": [
    "df_input = pd.read_parquet(\n",
    "    \"/home/HPC/cdroin/dynamic_collapse/master_study/scans/dynamic_octupoles_injection/base_collider/xtrack_0000/gen_3_normalized/input_particles.parquet\"\n",
    ")\n",
    "df_output = pd.read_parquet(\n",
    "    \"/home/HPC/cdroin/dynamic_collapse/master_study/scans/dynamic_octupoles_injection/base_collider/xtrack_0000/gen_3_normalized/output_particles.parquet\"\n",
    ")\n",
    "\n",
    "with open(\n",
    "    \"/home/HPC/cdroin/dynamic_collapse/master_study/scans/dynamic_octupoles_injection/base_collider/xtrack_0000/gen_3_normalized/observables.pkl\",\n",
    "    \"rb\",\n",
    ") as f:\n",
    "    dic_obs = pickle.load(f)\n",
    "\n",
    "dic_obs[\"l_df_particles\"][0]"
   ]
  },
  {
   "cell_type": "markdown",
   "metadata": {},
   "source": [
    "### Plot initial distribution"
   ]
  },
  {
   "cell_type": "code",
   "execution_count": null,
   "metadata": {},
   "outputs": [],
   "source": [
    "df_input_with_norm = dic_obs[\"l_df_particles\"][0]\n",
    "\n",
    "x_input = df_input_with_norm[\"x_norm\"]\n",
    "y_input = df_input_with_norm[\"y_norm\"]\n",
    "px_input = df_input_with_norm[\"px_norm\"]\n",
    "py_input = df_input_with_norm[\"py_norm\"]\n",
    "\n",
    "# Plot input particles (two subplots for x and y)\n",
    "fig, ax = plt.subplots(1, 2, figsize=(10, 5))\n",
    "ax[0].scatter(x_input, px_input, s=1)\n",
    "ax[0].set_xlabel(r\"$x$ [$\\sigma$]\")\n",
    "ax[0].set_ylabel(r\"$p_x$ [$\\sigma$]\")\n",
    "ax[0].grid()\n",
    "ax[0].set_ylim(-8, 8)\n",
    "ax[0].set_xlim(-8, 8)\n",
    "ax[1].scatter(y_input, py_input, s=1)\n",
    "ax[1].set_xlabel(r\"$y$ [$\\sigma$]\")\n",
    "ax[1].set_ylabel(r\"$p_y$ [$\\sigma$]\")\n",
    "ax[1].grid()\n",
    "ax[1].set_ylim(-8, 8)\n",
    "ax[1].set_xlim(-8, 8)\n",
    "plt.suptitle(\"Initial particles distribution\")\n",
    "plt.tight_layout()\n",
    "plt.show()"
   ]
  },
  {
   "cell_type": "markdown",
   "metadata": {},
   "source": [
    "### Plot evolution octupoles"
   ]
  },
  {
   "cell_type": "code",
   "execution_count": null,
   "metadata": {},
   "outputs": [],
   "source": [
    "plt.plot(dic_obs[\"l_n_turns\"], dic_obs[\"l_oct\"])\n",
    "plt.xlabel(\"Turns\")\n",
    "plt.ylabel(\"Octupoles intensity (A)\")\n",
    "#plt.xlim(1900, 2200)\n",
    "#plt.ylim(0,25)\n",
    "plt.grid()\n",
    "plt.show()"
   ]
  },
  {
   "cell_type": "code",
   "execution_count": null,
   "metadata": {},
   "outputs": [],
   "source": [
    "plt.scatter(range(len(dic_obs[\"l_n_turns\"])), dic_obs[\"l_n_turns\"])\n",
    "plt.grid()\n",
    "plt.show()"
   ]
  },
  {
   "cell_type": "markdown",
   "metadata": {},
   "source": [
    "### Plot ellipses"
   ]
  },
  {
   "cell_type": "code",
   "execution_count": null,
   "metadata": {},
   "outputs": [],
   "source": [
    "# Plot evolution of particles ellipses during first 50k turns (no octupoles)\n",
    "cmap = matplotlib.colormaps[\"Spectral\"]\n",
    "colors = cmap(np.linspace(0, 1, len(dic_obs[\"l_df_particles\"][0][\"x_norm\"])))\n",
    "fig, ax = plt.subplots(1, 2, figsize=(10, 5))\n",
    "for n_turn, df in zip(dic_obs[\"l_n_turns\"], dic_obs[\"l_df_particles\"]):\n",
    "    if n_turn > 2000:\n",
    "        break\n",
    "    for sigma in range(len(df[\"x_norm\"])):\n",
    "        ax[0].scatter(df[\"x_norm\"][sigma], df[\"px_norm\"][sigma], s=1, color=colors[sigma])\n",
    "        ax[1].scatter(df[\"y_norm\"][sigma], df[\"py_norm\"][sigma], s=1, color=colors[sigma])\n",
    "ax[0].set_xlabel(r\"$x$ [$\\sigma$]\")\n",
    "ax[0].set_ylabel(r\"$p_x$ [$\\sigma$]\")\n",
    "ax[0].grid()\n",
    "ax[1].set_xlabel(r\"$y$ [$\\sigma$]\")\n",
    "ax[1].set_ylabel(r\"$p_y$ [$\\sigma$]\")\n",
    "ax[1].grid()\n",
    "plt.suptitle(r\"Ellipses colored by $\\sigma$, no octupoles\")\n",
    "plt.tight_layout()\n",
    "plt.show()"
   ]
  },
  {
   "cell_type": "code",
   "execution_count": null,
   "metadata": {},
   "outputs": [],
   "source": [
    "# Plot the trajectory of a single ellipse for the whole simulation\n",
    "cmap = matplotlib.colormaps[\"rainbow\"]\n",
    "max_oct = np.max(dic_obs[\"l_oct\"]) + 50\n",
    "fig, ax = plt.subplots(1, 2, figsize=(12, 5))\n",
    "for octu, df in zip(dic_obs[\"l_oct\"], dic_obs[\"l_df_particles\"]):\n",
    "    ax[0].scatter(df[\"x_norm\"][6], df[\"px_norm\"][6], s=1, color=cmap(octu / max_oct))\n",
    "    ax[1].scatter(df[\"y_norm\"][6], df[\"py_norm\"][6], s=1, color=cmap(octu / max_oct))\n",
    "ax[0].set_xlabel(r\"$x$ [$\\sigma$]\")\n",
    "ax[0].set_ylabel(r\"$p_x$ [$\\sigma$]\")\n",
    "ax[0].grid()\n",
    "ax[1].set_xlabel(r\"$y$ [$\\sigma$]\")\n",
    "ax[1].set_ylabel(r\"$p_y$ [$\\sigma$]\")\n",
    "ax[1].grid()\n",
    "\n",
    "# Display colorbar\n",
    "fig.subplots_adjust(right=0.8)\n",
    "cbar_ax = fig.add_axes([0.85, 0.15, 0.02, 0.7])\n",
    "sm = plt.cm.ScalarMappable(cmap=cmap, norm=plt.Normalize(0, max_oct))\n",
    "sm.set_array([])\n",
    "cb = fig.colorbar(sm, cax=cbar_ax, orientation=\"vertical\")\n",
    "cb.outline.set_visible(False)\n",
    "cb.ax.get_yaxis().labelpad = 15\n",
    "cb.ax.set_ylabel(\"Octupoles (A)\", rotation=270)\n",
    "plt.suptitle(\"Trajectory of the $3\\sigma$ ellipse for the whole simulation\")\n",
    "plt.show()"
   ]
  }
 ],
 "metadata": {
  "kernelspec": {
   "display_name": "Python 3",
   "language": "python",
   "name": "python3"
  },
  "language_info": {
   "codemirror_mode": {
    "name": "ipython",
    "version": 3
   },
   "file_extension": ".py",
   "mimetype": "text/x-python",
   "name": "python",
   "nbconvert_exporter": "python",
   "pygments_lexer": "ipython3",
   "version": "3.10.12"
  }
 },
 "nbformat": 4,
 "nbformat_minor": 2
}
