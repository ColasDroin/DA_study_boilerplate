{
 "cells": [
  {
   "attachments": {},
   "cell_type": "markdown",
   "metadata": {},
   "source": [
    "### Import modules"
   ]
  },
  {
   "cell_type": "code",
   "execution_count": 1,
   "metadata": {},
   "outputs": [],
   "source": [
    "# Standard imports\n",
    "import pandas as pd\n",
    "import sys \n",
    "import os\n",
    "import seaborn as sns\n",
    "import os\n",
    "import shutil\n",
    "import numpy as np\n",
    "import xtrack as xt\n",
    "import matplotlib \n",
    "import numpy as np\n",
    "import PyNAFF as pnf\n",
    "import matplotlib.pyplot as plt\n",
    "\n",
    "# Local imports\n",
    "sys.path.insert(1, os.path.join(sys.path[0], '..'))\n",
    "import analysis_functions \n",
    "\n",
    "# Apply better style\n",
    "sns.set_theme(style=\"whitegrid\")\n",
    "custom_params = {\"axes.spines.right\": False, \"axes.spines.top\": False}\n",
    "sns.set_theme(style=\"ticks\", rc=custom_params)\n",
    "#sns.set(font='Adobe Devanagari')\n",
    "sns.set_context(\"paper\", font_scale=1, rc={\"lines.linewidth\": 0.5, \"grid.linewidth\": 0.3})\n",
    "\n",
    "\n",
    "matplotlib.rcParams['mathtext.fontset'] = 'cm'\n",
    "matplotlib.rcParams['font.family'] = 'STIXGeneral'\n",
    "# Not italized latex\n",
    "matplotlib.rcParams['mathtext.default'] = 'regular'\n",
    "matplotlib.rcParams[\"font.weight\"] = \"light\"\n",
    "\n",
    "%config InlineBackend.figure_format='svg'\n",
    "\n"
   ]
  },
  {
   "cell_type": "markdown",
   "metadata": {},
   "source": [
    "## With bb"
   ]
  },
  {
   "cell_type": "code",
   "execution_count": 2,
   "metadata": {},
   "outputs": [
    {
     "name": "stdout",
     "output_type": "stream",
     "text": [
      "Done loading line from dict.           \n",
      "Done loading line from dict.           \n",
      "Done loading line from dict.           \n",
      "Done loading line from dict.           \n",
      "Found suitable prebuilt kernel `default_bb3d`.\n",
      "Found suitable prebuilt kernel `default_bb3d`.\n",
      "Found suitable prebuilt kernel `default_only_xtrack`.\n",
      "Found suitable prebuilt kernel `default_only_xtrack`.\n"
     ]
    }
   ],
   "source": [
    "# Define study\n",
    "STUDY_NAME = \"tune_scan_2024_bis\"\n",
    "COLLIDER = \"collider_00\"\n",
    "JOB = \"xtrack_1029\"\n",
    "COLLIDER_PATH = f\"../../scans/{STUDY_NAME}/{COLLIDER}/{JOB}/collider.json\"\n",
    "# Load collider\n",
    "collider = xt.Multiline.from_json(COLLIDER_PATH)\n",
    "collider.build_trackers()\n"
   ]
  },
  {
   "cell_type": "code",
   "execution_count": 3,
   "metadata": {},
   "outputs": [
    {
     "name": "stdout",
     "output_type": "stream",
     "text": [
      "62.30047458926939 60.305196346113206\n",
      "-600.0\n"
     ]
    }
   ],
   "source": [
    "tw = collider.lhcb1.twiss()\n",
    "print(tw.qx, tw.qy)\n",
    "print(collider.lhcb1.vars['i_oct_b1']._value)"
   ]
  },
  {
   "cell_type": "code",
   "execution_count": 4,
   "metadata": {},
   "outputs": [
    {
     "name": "stdout",
     "output_type": "stream",
     "text": [
      "Done loading line from dict.           \n",
      "Done loading line from dict.           \n",
      "Done loading line from dict.           \n",
      "Done loading line from dict.           \n",
      "Found suitable prebuilt kernel `default_bb3d`.\n",
      "Found suitable prebuilt kernel `default_bb3d`.\n",
      "Found suitable prebuilt kernel `default_only_xtrack`.\n",
      "Found suitable prebuilt kernel `default_only_xtrack`.\n"
     ]
    }
   ],
   "source": [
    "# Define study\n",
    "STUDY_NAME = \"tune_scan_2024_bis\"\n",
    "COLLIDER = \"collider_00\"\n",
    "JOB = \"xtrack_1030\"\n",
    "COLLIDER_PATH = f\"../../scans/{STUDY_NAME}/{COLLIDER}/{JOB}/collider.json\"\n",
    "# Load collider\n",
    "collider = xt.Multiline.from_json(COLLIDER_PATH)\n",
    "collider.build_trackers()"
   ]
  },
  {
   "cell_type": "code",
   "execution_count": 5,
   "metadata": {},
   "outputs": [
    {
     "name": "stdout",
     "output_type": "stream",
     "text": [
      "62.30046177942305 60.305334668071545\n",
      "0.0\n"
     ]
    }
   ],
   "source": [
    "tw = collider.lhcb1.twiss()\n",
    "print(tw.qx, tw.qy)\n",
    "print(collider.lhcb1.vars['i_oct_b1']._value)"
   ]
  },
  {
   "cell_type": "markdown",
   "metadata": {},
   "source": [
    "## Without bb"
   ]
  },
  {
   "cell_type": "code",
   "execution_count": 6,
   "metadata": {},
   "outputs": [
    {
     "name": "stdout",
     "output_type": "stream",
     "text": [
      "Done loading line from dict.           \n",
      "Done loading line from dict.           \n",
      "Done loading line from dict.           \n",
      "Done loading line from dict.           \n",
      "Found suitable prebuilt kernel `default_bb3d`.\n",
      "Found suitable prebuilt kernel `default_bb3d`.\n",
      "Found suitable prebuilt kernel `default_only_xtrack`.\n",
      "Found suitable prebuilt kernel `default_only_xtrack`.\n"
     ]
    }
   ],
   "source": [
    "# Define study\n",
    "STUDY_NAME = \"tune_scan_2024_bis\"\n",
    "COLLIDER = \"collider_00\"\n",
    "JOB = \"xtrack_1029\"\n",
    "COLLIDER_PATH = f\"../../scans/{STUDY_NAME}/{COLLIDER}/{JOB}/collider_no_bb.json\"\n",
    "# Load collider\n",
    "collider = xt.Multiline.from_json(COLLIDER_PATH)\n",
    "collider.build_trackers()"
   ]
  },
  {
   "cell_type": "code",
   "execution_count": 7,
   "metadata": {},
   "outputs": [
    {
     "name": "stdout",
     "output_type": "stream",
     "text": [
      "62.318002087510386 60.32300211925965\n",
      "-600.0\n"
     ]
    }
   ],
   "source": [
    "tw = collider.lhcb1.twiss()\n",
    "print(tw.qx, tw.qy)\n",
    "print(collider.lhcb1.vars['i_oct_b1']._value)"
   ]
  },
  {
   "cell_type": "code",
   "execution_count": 8,
   "metadata": {},
   "outputs": [
    {
     "name": "stdout",
     "output_type": "stream",
     "text": [
      "Done loading line from dict.           \n",
      "Done loading line from dict.           \n",
      "Done loading line from dict.           \n",
      "Done loading line from dict.           \n",
      "Found suitable prebuilt kernel `default_bb3d`.\n",
      "Found suitable prebuilt kernel `default_bb3d`.\n",
      "Found suitable prebuilt kernel `default_only_xtrack`.\n",
      "Found suitable prebuilt kernel `default_only_xtrack`.\n"
     ]
    }
   ],
   "source": [
    "# Define study\n",
    "STUDY_NAME = \"tune_scan_2024_bis\"\n",
    "COLLIDER = \"collider_00\"\n",
    "JOB = \"xtrack_1030\"\n",
    "COLLIDER_PATH = f\"../../scans/{STUDY_NAME}/{COLLIDER}/{JOB}/collider_no_bb.json\"\n",
    "# Load collider\n",
    "collider = xt.Multiline.from_json(COLLIDER_PATH)\n",
    "collider.build_trackers()"
   ]
  },
  {
   "cell_type": "code",
   "execution_count": 9,
   "metadata": {},
   "outputs": [
    {
     "name": "stdout",
     "output_type": "stream",
     "text": [
      "62.318001932612695 60.32300183073434\n",
      "0.0\n"
     ]
    }
   ],
   "source": [
    "tw = collider.lhcb1.twiss()\n",
    "print(tw.qx, tw.qy)\n",
    "print(collider.lhcb1.vars['i_oct_b1']._value)"
   ]
  }
 ],
 "metadata": {
  "kernelspec": {
   "display_name": "Python 3",
   "language": "python",
   "name": "python3"
  },
  "language_info": {
   "codemirror_mode": {
    "name": "ipython",
    "version": 3
   },
   "file_extension": ".py",
   "mimetype": "text/x-python",
   "name": "python",
   "nbconvert_exporter": "python",
   "pygments_lexer": "ipython3",
   "version": "3.10.12"
  },
  "orig_nbformat": 4,
  "vscode": {
   "interpreter": {
    "hash": "258ed27130092d1611e438a5ae26a3133782840bad2ac649c8a295d1052b554d"
   }
  }
 },
 "nbformat": 4,
 "nbformat_minor": 2
}
