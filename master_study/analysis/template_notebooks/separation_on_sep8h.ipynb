{
 "cells": [
  {
   "cell_type": "code",
   "execution_count": null,
   "metadata": {},
   "outputs": [],
   "source": [
    "import xtrack as xt\n",
    "import json\n",
    "from functions import compute_separation_and_return_both_planes"
   ]
  },
  {
   "cell_type": "code",
   "execution_count": null,
   "metadata": {},
   "outputs": [],
   "source": [
    "path_collider = \"/afs/cern.ch/work/c/cdroin/private/example_DA_study/master_study/scans/all_optics_2024_reverted/collider_00/xtrack_0000/collider.json\"\n",
    "\n",
    "# This notebook assumes that the collider loaded embeds a configuration\n",
    "with open(path_collider, \"r\") as fid:\n",
    "    collider_dict = json.load(fid)\n",
    "if \"config_yaml\" in collider_dict:\n",
    "    print(\"A configuration has been found in the collider file. Using it.\")\n",
    "    config_BB = collider_dict[\"config_yaml\"][\"config_beambeam\"]\n",
    "else:\n",
    "    raise ValueError(\"No configuration found in collider file.\")\n",
    "\n",
    "collider = xt.Multiline.from_dict(collider_dict)\n",
    "collider.build_trackers()\n",
    "        \n"
   ]
  },
  {
   "cell_type": "code",
   "execution_count": null,
   "metadata": {},
   "outputs": [],
   "source": [
    "# Define emittance and energy\n",
    "energy = collider.lhcb1.particle_ref._p0c[0]/1e9\n",
    "emittance = 2.2e-6\n",
    "\n",
    "# Get initial horizontal and vertical separation\n",
    "initial_value_on_sep8h = collider.vars['on_sep8h']._value\n",
    "initial_value_on_sep8v = collider.vars['on_sep8v']._value\n",
    "print(f\"Initial value on sep8h: {initial_value_on_sep8h}\")\n",
    "print(f\"Initial value on sep8v: {initial_value_on_sep8v}\")\n"
   ]
  },
  {
   "cell_type": "code",
   "execution_count": null,
   "metadata": {},
   "outputs": [],
   "source": [
    "fig_h, fig_v = compute_separation_and_return_both_planes(collider, energy, emittance, val_on_sep8h = -0.01, config_BB = config_BB, update_BB = True)\n",
    "fig_h.show(renderer = 'browser')\n",
    "fig_v.show(renderer = 'browser')\n"
   ]
  }
 ],
 "metadata": {
  "kernelspec": {
   "display_name": "Python 3",
   "language": "python",
   "name": "python3"
  },
  "language_info": {
   "codemirror_mode": {
    "name": "ipython",
    "version": 3
   },
   "file_extension": ".py",
   "mimetype": "text/x-python",
   "name": "python",
   "nbconvert_exporter": "python",
   "pygments_lexer": "ipython3",
   "version": "3.10.10"
  },
  "orig_nbformat": 4
 },
 "nbformat": 4,
 "nbformat_minor": 2
}
